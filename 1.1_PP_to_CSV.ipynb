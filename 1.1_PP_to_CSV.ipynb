{
  "nbformat": 4,
  "nbformat_minor": 0,
  "metadata": {
    "colab": {
      "provenance": [],
      "authorship_tag": "ABX9TyNAvNybDwQRJOqGRC4kppzT",
      "include_colab_link": true
    },
    "kernelspec": {
      "name": "python3",
      "display_name": "Python 3"
    },
    "language_info": {
      "name": "python"
    }
  },
  "cells": [
    {
      "cell_type": "markdown",
      "metadata": {
        "id": "view-in-github",
        "colab_type": "text"
      },
      "source": [
        "<a href=\"https://colab.research.google.com/github/ssohail-droid/pedroPathingTools/blob/main/1.1_PP_to_CSV.ipynb\" target=\"_parent\"><img src=\"https://colab.research.google.com/assets/colab-badge.svg\" alt=\"Open In Colab\"/></a>"
      ]
    },
    {
      "cell_type": "code",
      "execution_count": null,
      "metadata": {
        "id": "EeoUSobuNZa8"
      },
      "outputs": [],
      "source": [
        "import json\n",
        "import pandas as pd\n",
        "from pathlib import Path"
      ]
    },
    {
      "cell_type": "code",
      "source": [
        "\n",
        "pp_file_path = \"trajectory.pp\"\n",
        "\n",
        "with open(pp_file_path, \"r\") as f:\n",
        "    data = json.load(f)\n"
      ],
      "metadata": {
        "id": "k4ve24nVNnD9"
      },
      "execution_count": null,
      "outputs": []
    },
    {
      "cell_type": "code",
      "source": [
        "\n",
        "start_point_df = pd.DataFrame([data.get(\"startPoint\", {})])\n",
        "\n",
        "\n",
        "lines_data = []\n",
        "control_points_data = []\n",
        "\n",
        "for idx, line in enumerate(data.get(\"lines\", [])):\n",
        "    end_point = line.get(\"endPoint\", {})\n",
        "    end_point[\"lineIndex\"] = idx\n",
        "    lines_data.append(end_point)\n",
        "\n",
        "    for cp_idx, cp in enumerate(line.get(\"controlPoints\", [])):\n",
        "        cp[\"lineIndex\"] = idx\n",
        "        cp[\"controlPointIndex\"] = cp_idx\n",
        "        control_points_data.append(cp)\n",
        "\n",
        "lines_df = pd.DataFrame(lines_data)\n",
        "control_points_df = pd.DataFrame(control_points_data)\n"
      ],
      "metadata": {
        "id": "Y6cryjXjN2Dm"
      },
      "execution_count": null,
      "outputs": []
    },
    {
      "cell_type": "code",
      "source": [
        "\n",
        "output_dir = Path(\"pp_output\")\n",
        "output_dir.mkdir(exist_ok=True)\n",
        "\n",
        "start_point_df.to_csv(output_dir / \"start_point.csv\", index=False)\n",
        "lines_df.to_csv(output_dir / \"lines.csv\", index=False)\n",
        "control_points_df.to_csv(output_dir / \"control_points.csv\", index=False)\n",
        "\n",
        "print(\"✅ Exported: start_point.csv, lines.csv, control_points.csv\")\n"
      ],
      "metadata": {
        "colab": {
          "base_uri": "https://localhost:8080/"
        },
        "id": "zZY5tWx3N6d1",
        "outputId": "1df97bb6-de76-4776-cc39-5f5085aafa70"
      },
      "execution_count": null,
      "outputs": [
        {
          "output_type": "stream",
          "name": "stdout",
          "text": [
            "✅ Exported: start_point.csv, lines.csv, control_points.csv\n"
          ]
        }
      ]
    },
    {
      "cell_type": "code",
      "source": [],
      "metadata": {
        "id": "ObPMkEXzN9kV"
      },
      "execution_count": null,
      "outputs": []
    }
  ]
}